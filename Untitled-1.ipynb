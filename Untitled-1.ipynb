{
 "cells": [
  {
   "cell_type": "code",
   "execution_count": 7,
   "metadata": {},
   "outputs": [],
   "source": []
  },
  {
   "cell_type": "code",
   "execution_count": null,
   "metadata": {},
   "outputs": [],
   "source": [
    "def evaluate_job_offer(location, salary, space):\n",
    "    if location == 'California' and salary > 40000:\n",
    "        return \"Accept the job in California!\"\n",
    "    elif location == 'Massachusetts' and salary >= 100000:\n",
    "        return \"Accept the job in Massachusetts!\"\n",
    "    elif location==\"space\":\n",
    "        return \"Work for free in space!\"\n",
    "    elif salary>=60000:\n",
    "        return \"Accept the job\"\n",
    "    else:\n",
    "        return f\"Accept the job in {location} for {salary} a year.\"\n",
    "    \n",
    "\n",
    "job_offer_1 = evaluate_job_offer('California', 50000, False)\n",
    "job_offer_2 = evaluate_job_offer('Massachusetts', 120000, False)\n",
    "job_offer_3 = evaluate_job_offer('', 60000, True)\n",
    "job_offer_4 = evaluate_job_offer('Space', 0, True)\n",
    "\n",
    "\n",
    "print(job_offer_4)\n",
    "if __name__ == '__main__':\n",
    "    salary = input('enter salary:')\n",
    "    location = input('enter location:')\n",
    "\n",
    "\n"
   ]
  },
  {
   "cell_type": "code",
   "execution_count": null,
   "metadata": {},
   "outputs": [],
   "source": [
    "import pandas as pd\n",
    "\n",
    "# Create two sample datasets\n",
    "df1 = pd.DataFrame({\n",
    "    'ID': [1, 2, 3],\n",
    "    'Name': ['Alice', 'Bob', 'Charlie']\n",
    "})\n",
    "\n",
    "df2 = pd.DataFrame({\n",
    "    'ID': [1, 2, 4],\n",
    "    'Salary': [50000, 60000, 70000]\n",
    "})\n",
    "\n",
    "# 1. Join()\n",
    "# Inner join on 'ID'\n",
    "join_result = pd.merge(df1, df2, on='ID', how='inner')\n",
    "print(\"Join Result:\")\n",
    "print(join_result)\n",
    "print()\n",
    "\n",
    "# 2. Concat()\n",
    "# Concatenate along rows (axis=0)\n",
    "concat_result = pd.concat([df1, df2], axis=0)\n",
    "print(\"Concat Result:\")\n",
    "print(concat_result)\n",
    "print()\n",
    "\n",
    "# 3. Merge()\n",
    "# Inner merge on 'ID'\n",
    "merge_result = pd.merge(df1, df2, on='ID', how='inner')\n",
    "print(\"Merge Result:\")\n",
    "print(merge_result)\n"
   ]
  }
 ],
 "metadata": {
  "kernelspec": {
   "display_name": "Python 3",
   "language": "python",
   "name": "python3"
  },
  "language_info": {
   "codemirror_mode": {
    "name": "ipython",
    "version": 3
   },
   "file_extension": ".py",
   "mimetype": "text/x-python",
   "name": "python",
   "nbconvert_exporter": "python",
   "pygments_lexer": "ipython3",
   "version": "3.8.5"
  }
 },
 "nbformat": 4,
 "nbformat_minor": 2
}
